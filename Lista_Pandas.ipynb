{
 "cells": [
  {
   "cell_type": "markdown",
   "metadata": {
    "id": "UAEy4Agk-yiU"
   },
   "source": [
    "0. Importe as bibliotecas necessárias"
   ]
  },
  {
   "cell_type": "code",
   "execution_count": 1,
   "metadata": {
    "executionInfo": {
     "elapsed": 6,
     "status": "ok",
     "timestamp": 1630892254245,
     "user": {
      "displayName": "Douglas da Silva Cardoso",
      "photoUrl": "https://lh3.googleusercontent.com/a-/AOh14GgOrif6VblLeboQDcSTAeoxszYPRn5V1bHJm7Oe8g=s64",
      "userId": "06270621460978465746"
     },
     "user_tz": 180
    },
    "id": "Nz4DLp-b-3CY"
   },
   "outputs": [],
   "source": [
    "import pandas as pd\n",
    "import numpy as np"
   ]
  },
  {
   "cell_type": "markdown",
   "metadata": {
    "id": "VrPZY2hh6LHV"
   },
   "source": [
    "1. Importe os dados sobre os penguins, que se encontra no link abaixo.\n",
    "\n",
    "https://raw.githubusercontent.com/mwaskom/seaborn-data/master/penguins.csv"
   ]
  },
  {
   "cell_type": "code",
   "execution_count": 2,
   "metadata": {
    "executionInfo": {
     "elapsed": 4,
     "status": "ok",
     "timestamp": 1630892256279,
     "user": {
      "displayName": "Douglas da Silva Cardoso",
      "photoUrl": "https://lh3.googleusercontent.com/a-/AOh14GgOrif6VblLeboQDcSTAeoxszYPRn5V1bHJm7Oe8g=s64",
      "userId": "06270621460978465746"
     },
     "user_tz": 180
    },
    "id": "7vouJCaL-3qk"
   },
   "outputs": [],
   "source": [
    "p = pd.read_csv('https://raw.githubusercontent.com/mwaskom/seaborn-data/master/penguins.csv')"
   ]
  },
  {
   "cell_type": "markdown",
   "metadata": {
    "id": "tzaOnGME6WGd"
   },
   "source": [
    "2. Mude o nome de todas as colunas para o inglês"
   ]
  },
  {
   "cell_type": "code",
   "execution_count": null,
   "metadata": {
    "id": "_ddf37F1-4F7"
   },
   "outputs": [],
   "source": [
    "p.rename({'species': 'espécies', 'island': 'ilha', 'bill_length_mm': 'largura_bico_mm', 'bill_depth_mm': 'profundidade_bico_mm', 'flipper_length_mm': 'largura_nadadeira_mm', 'body_mass_g': 'peso_corporal_g', 'sex':'sexo'}, axis=1, inplace=True)\n",
    "p"
   ]
  },
  {
   "cell_type": "markdown",
   "metadata": {
    "id": "wKooYLwc6n4O"
   },
   "source": [
    "3. Mude os elementos da coluna `sex` (\"MALE\" e \"FEMALE\") para português (\"MASCULINO\" e \"FEMININO\") "
   ]
  },
  {
   "cell_type": "code",
   "execution_count": null,
   "metadata": {
    "id": "QG56C7la-4g0"
   },
   "outputs": [],
   "source": [
    "p[\"sexo\"].replace({\"MALE\": \"Macho\", \"FEMALE\": \"Fêmea\"}, inplace=True)\n",
    "p\n",
    "\n"
   ]
  },
  {
   "cell_type": "markdown",
   "metadata": {
    "id": "S8goPDny7QuK"
   },
   "source": [
    "4. Crie uma coluna com o quadrado do peso chamada `quadpeso`"
   ]
  },
  {
   "cell_type": "code",
   "execution_count": 7,
   "metadata": {
    "colab": {
     "base_uri": "https://localhost:8080/",
     "height": 424
    },
    "executionInfo": {
     "elapsed": 256,
     "status": "ok",
     "timestamp": 1630892354613,
     "user": {
      "displayName": "Douglas da Silva Cardoso",
      "photoUrl": "https://lh3.googleusercontent.com/a-/AOh14GgOrif6VblLeboQDcSTAeoxszYPRn5V1bHJm7Oe8g=s64",
      "userId": "06270621460978465746"
     },
     "user_tz": 180
    },
    "id": "TSGu7qXW-426",
    "outputId": "621dc0be-0ea8-4e5f-c1bb-c865d2aea03a"
   },
   "outputs": [
    {
     "data": {
      "text/html": [
       "<div>\n",
       "<style scoped>\n",
       "    .dataframe tbody tr th:only-of-type {\n",
       "        vertical-align: middle;\n",
       "    }\n",
       "\n",
       "    .dataframe tbody tr th {\n",
       "        vertical-align: top;\n",
       "    }\n",
       "\n",
       "    .dataframe thead th {\n",
       "        text-align: right;\n",
       "    }\n",
       "</style>\n",
       "<table border=\"1\" class=\"dataframe\">\n",
       "  <thead>\n",
       "    <tr style=\"text-align: right;\">\n",
       "      <th></th>\n",
       "      <th>bill_length_mm</th>\n",
       "    </tr>\n",
       "  </thead>\n",
       "  <tbody>\n",
       "    <tr>\n",
       "      <th>0</th>\n",
       "      <td>1528.81</td>\n",
       "    </tr>\n",
       "    <tr>\n",
       "      <th>1</th>\n",
       "      <td>1560.25</td>\n",
       "    </tr>\n",
       "    <tr>\n",
       "      <th>2</th>\n",
       "      <td>1624.09</td>\n",
       "    </tr>\n",
       "    <tr>\n",
       "      <th>3</th>\n",
       "      <td>NaN</td>\n",
       "    </tr>\n",
       "    <tr>\n",
       "      <th>4</th>\n",
       "      <td>1346.89</td>\n",
       "    </tr>\n",
       "    <tr>\n",
       "      <th>...</th>\n",
       "      <td>...</td>\n",
       "    </tr>\n",
       "    <tr>\n",
       "      <th>339</th>\n",
       "      <td>NaN</td>\n",
       "    </tr>\n",
       "    <tr>\n",
       "      <th>340</th>\n",
       "      <td>2190.24</td>\n",
       "    </tr>\n",
       "    <tr>\n",
       "      <th>341</th>\n",
       "      <td>2540.16</td>\n",
       "    </tr>\n",
       "    <tr>\n",
       "      <th>342</th>\n",
       "      <td>2043.04</td>\n",
       "    </tr>\n",
       "    <tr>\n",
       "      <th>343</th>\n",
       "      <td>2490.01</td>\n",
       "    </tr>\n",
       "  </tbody>\n",
       "</table>\n",
       "<p>344 rows × 1 columns</p>\n",
       "</div>"
      ],
      "text/plain": [
       "     bill_length_mm\n",
       "0           1528.81\n",
       "1           1560.25\n",
       "2           1624.09\n",
       "3               NaN\n",
       "4           1346.89\n",
       "..              ...\n",
       "339             NaN\n",
       "340         2190.24\n",
       "341         2540.16\n",
       "342         2043.04\n",
       "343         2490.01\n",
       "\n",
       "[344 rows x 1 columns]"
      ]
     },
     "execution_count": 7,
     "metadata": {},
     "output_type": "execute_result"
    }
   ],
   "source": [
    "p['quadpeso'] = p['peso_corporal_g'] ** 2\n",
    "\n",
    "print(p)\n",
    "\n",
    "#nao entendi pq isso nao funcionou\n",
    "#arr1 = np.array([p.peso_corporal_g **2])\n",
    "#p['quadpeso'] = arr1.tolist()"
   ]
  },
  {
   "cell_type": "markdown",
   "metadata": {
    "id": "LNY_KQ7965IO"
   },
   "source": [
    "5. Crie uma coluna chamada `acima_da_media`, que contenha valores booleanos, `True` caso o pinguin esteja com o peso acima da média e `False` caso o pinguin esteja com o peso na média ou abaixo da média. "
   ]
  },
  {
   "cell_type": "code",
   "execution_count": null,
   "metadata": {
    "id": "MzQ3k70v-5X1"
   },
   "outputs": [],
   "source": [
    "p['acima_da_media'] = p['peso_corporal_g'] > p['peso_corporal_g'].mean()\n",
    "\n",
    "print(p)"
   ]
  },
  {
   "cell_type": "markdown",
   "metadata": {
    "id": "CSTCkh_N649G"
   },
   "source": [
    "6. Calcule quantos penguins, por espécie, estão com o peso acima da **média**"
   ]
  },
  {
   "cell_type": "code",
   "execution_count": null,
   "metadata": {
    "id": "hlPcbk3y-5tK"
   },
   "outputs": [],
   "source": [
    "print(p.groupby('espécies')['acima_da_media'].sum())"
   ]
  },
  {
   "cell_type": "markdown",
   "metadata": {
    "id": "y6RPcxpN7_cT"
   },
   "source": [
    "7. Calcule a média e o desvio-padrão dos pinguins, por sexo e por ilha. Depois, jogue fora as linhas que são NaN"
   ]
  },
  {
   "cell_type": "code",
   "execution_count": null,
   "metadata": {
    "id": "ltqpVAvn-6EM"
   },
   "outputs": [],
   "source": [
    "p.dropna()"
   ]
  },
  {
   "cell_type": "markdown",
   "metadata": {
    "id": "wlq8oM128OA4"
   },
   "source": [
    "8. Encontre os pinguins que estão acima de dois desvio-padrão do peso médio.\n",
    "\n",
    "obs: você precisará filtrar os pinguins que estejam acima de `2 * desvio_padrão + peso_médio`"
   ]
  },
  {
   "cell_type": "code",
   "execution_count": null,
   "metadata": {
    "id": "D1v-9R_J-6Ux"
   },
   "outputs": [],
   "source": []
  },
  {
   "cell_type": "markdown",
   "metadata": {
    "id": "ZdfFgSCW8mGt"
   },
   "source": [
    "9. Para cada grupo de ilha e espécie, encontre o tamanho de bico mediano e a quantidade de penguins"
   ]
  },
  {
   "cell_type": "code",
   "execution_count": null,
   "metadata": {
    "id": "Eb0vfVUO-6lC"
   },
   "outputs": [],
   "source": []
  },
  {
   "cell_type": "markdown",
   "metadata": {
    "id": "EXzeJISX8z2u"
   },
   "source": [
    "10. Importe os CSVs abaixo para variáveis:\n",
    "\n",
    "`flights.csv`, `airports.csv`, `planes.csv` e `airlines`"
   ]
  },
  {
   "cell_type": "code",
   "execution_count": null,
   "metadata": {
    "id": "dJxRw6OE-611"
   },
   "outputs": [],
   "source": []
  },
  {
   "cell_type": "markdown",
   "metadata": {
    "id": "xt044V4z9aL-"
   },
   "source": [
    "11. Faça um `left_join` de flights e planes. Depois, faça a média de atraso (`arr_delay`) por `manufacturer`. Tente arranjar os dados para descobrirmos quais são os que mais atrasam *na média* "
   ]
  },
  {
   "cell_type": "code",
   "execution_count": null,
   "metadata": {
    "id": "F_utTv_3-7F4"
   },
   "outputs": [],
   "source": []
  },
  {
   "cell_type": "markdown",
   "metadata": {
    "id": "LrV_KVDd-HzF"
   },
   "source": [
    "12. Com os dados juntados anteriormente, junte também o dataframe de `airlines`, de acordo com as colunas em comum. Depois, descubra a quantidade de linhas por `origin` e `airlines`"
   ]
  },
  {
   "cell_type": "code",
   "execution_count": null,
   "metadata": {
    "id": "zHaZ_GC2-7Vd"
   },
   "outputs": [],
   "source": []
  },
  {
   "cell_type": "markdown",
   "metadata": {
    "id": "d7Ty7OwP-kIb"
   },
   "source": [
    "13. Fique a vontade para brincar com os dados, qualquer dúvida fale com o seu tutor. Fique à vontade de levar sua tentativa de novos arranjos e dúvidas sobre os exercícios para a monitoria."
   ]
  },
  {
   "cell_type": "code",
   "execution_count": null,
   "metadata": {
    "id": "hkifMvvz-7p7"
   },
   "outputs": [],
   "source": []
  }
 ],
 "metadata": {
  "colab": {
   "collapsed_sections": [],
   "name": "Lista_de_exercícios_Pandas_2.ipynb",
   "provenance": []
  },
  "kernelspec": {
   "display_name": "Python 3 (ipykernel)",
   "language": "python",
   "name": "python3"
  },
  "language_info": {
   "codemirror_mode": {
    "name": "ipython",
    "version": 3
   },
   "file_extension": ".py",
   "mimetype": "text/x-python",
   "name": "python",
   "nbconvert_exporter": "python",
   "pygments_lexer": "ipython3",
   "version": "3.8.9"
  }
 },
 "nbformat": 4,
 "nbformat_minor": 1
}
