{
 "cells": [
  {
   "cell_type": "markdown",
   "metadata": {},
   "source": [
    "Otimizando código do Max"
   ]
  },
  {
   "cell_type": "code",
   "execution_count": 5,
   "metadata": {},
   "outputs": [
    {
     "name": "stdout",
     "output_type": "stream",
     "text": [
      "10, esse número não é primo...\n"
     ]
    }
   ],
   "source": [
    "\n",
    "num = int(input('insira um número: '))\n",
    "cont = 0\n",
    "for x in range(1, num + 1):\n",
    "    if num % x == 0:\n",
    "        cont += 1\n",
    "    else:\n",
    "        cont == 0\n",
    "if cont == 2:\n",
    "    print(f'{num}, esse número é primo...')\n",
    "else:\n",
    "    print(f'{num}, esse número não é primo...')\n"
   ]
  },
  {
   "cell_type": "code",
   "execution_count": 4,
   "metadata": {},
   "outputs": [
    {
     "name": "stdout",
     "output_type": "stream",
     "text": [
      "10, esse número não é primo...\n"
     ]
    }
   ],
   "source": [
    "num = int(input('insira um número: '))\n",
    "cont = 0\n",
    "#list comprehension\n",
    "cont = [ cont + 1 if num % x == 0 else cont == 0 for x in range(1, num + 1)]\n",
    "if cont == 2:\n",
    "    print(f'{num}, esse número é primo...')\n",
    "else:\n",
    "    print(f'{num}, esse número não é primo...')"
   ]
  }
 ],
 "metadata": {
  "interpreter": {
   "hash": "613bf32561d6c8d69eb132813b998c559150064ca3f87c4aab2594517df339d7"
  },
  "kernelspec": {
   "display_name": "Python 3.9.12 ('base')",
   "language": "python",
   "name": "python3"
  },
  "language_info": {
   "codemirror_mode": {
    "name": "ipython",
    "version": 3
   },
   "file_extension": ".py",
   "mimetype": "text/x-python",
   "name": "python",
   "nbconvert_exporter": "python",
   "pygments_lexer": "ipython3",
   "version": "3.9.12"
  },
  "orig_nbformat": 4
 },
 "nbformat": 4,
 "nbformat_minor": 2
}
